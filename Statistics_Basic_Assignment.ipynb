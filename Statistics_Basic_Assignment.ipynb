{
 "cells": [
  {
   "cell_type": "markdown",
   "id": "67226c92",
   "metadata": {},
   "source": [
    "1. What is the difference between descriptive statistics and inferential\n",
    "statistics? Explain with examples.\n",
    "    - Descriptive statistics summarize and describe the data you have. Example: “The average height of 50 students in our class is 165 cm.”\n",
    "\n",
    "        Inferential statistics use a sample of data to make predictions or draw conclusions about a larger group. Example: “Based on the sample of 50 students, we estimate that the average height of all students in the school is between 163 cm and 167 cm.”"
   ]
  },
  {
   "cell_type": "markdown",
   "id": "39c6dd24",
   "metadata": {},
   "source": [
    "2. What is sampling in statistics? Explain the differences between random\n",
    "and stratified sampling.\n",
    "    - Sampling is the process of selecting a smaller group (sample) from a larger group (population) in order to collect data and make conclusions about the entire population without studying every single member.\n",
    "\n",
    "        Random Sampling where every member of the population has an equal chance of being selected.\n",
    "        Stratified Sampling where the population is divided into subgroups (strata) based on certain characteristics (e.g., gender, age group, income level), and then random samples are taken from each subgroup"
   ]
  },
  {
   "cell_type": "markdown",
   "id": "c9b2b609",
   "metadata": {},
   "source": [
    "3. Define mean, median, and mode. Explain why these measures of central\n",
    "tendency are important.\n",
    "    - Mean: The sum of all values divided by number of values. For data [10,15,20] Mean is (10+15+20)/3= 15.\n",
    "        \n",
    "        Median: The middle value when the data is arranged in order. For data [5,10,15] Median is 10.\n",
    "\n",
    "        Mode: The value that appears most frequently in a dataset. For data [2,3,4,4,5,6,4] Mode is 4.\n",
    "\n",
    "        These measures of central tendency are important because they summarize the data, they help compare datasets, they provide different perspectives."
   ]
  },
  {
   "cell_type": "markdown",
   "id": "d2d97bee",
   "metadata": {},
   "source": [
    "4. Explain skewness and kurtosis. What does a positive skew imply about the\n",
    "data?\n",
    "    - Skewness: It measures the asymmetry of a dataset’s distribution around its mean. Symmetrical distribution where skewness = 0 (perfect bell curve), positive skew- tail on the right side is longer(mean>median), negative skew- tail on the left side is longer(mean<median).\n",
    "\n",
    "        Kurtosis: It measures the tailedness or peakedness of a distribution — in other words, how heavy or light the tails are compared to a normal distribution. It's types are Mesokurtic, Leptokurtic, Platykurtic.\n",
    "\n",
    "        Positive skew implies: The right tail is longer means more extreme high values. Mean>median because high value pull the mean upword, most data points are clustered on the left."
   ]
  },
  {
   "cell_type": "markdown",
   "id": "21ace072",
   "metadata": {},
   "source": [
    "5. Implement a Python program to compute the mean, median, and mode of\n",
    "a given list of numbers."
   ]
  },
  {
   "cell_type": "code",
   "execution_count": 1,
   "id": "06705443",
   "metadata": {},
   "outputs": [
    {
     "name": "stdout",
     "output_type": "stream",
     "text": [
      "The numbers are [3, 4, 5, 6, 2, 5, 7, 3] \n",
      "Mean value is 4.375 \n",
      "Median value is 4.5 \n",
      "Mode value is 3\n"
     ]
    }
   ],
   "source": [
    "import statistics as stats\n",
    "numbers= [3,4,5,6,2,5,7,3]\n",
    "\n",
    "mean_value = stats.mean(numbers)\n",
    "median_value = stats.median(numbers)\n",
    "mode_value = stats.mode(numbers)\n",
    "\n",
    "print(f\"The numbers are {numbers} \\nMean value is {mean_value} \\nMedian value is {median_value} \\nMode value is {mode_value}\")"
   ]
  },
  {
   "cell_type": "markdown",
   "id": "fc760a69",
   "metadata": {},
   "source": [
    "6. Compute the covariance and correlation coefficient between the following\n",
    "two datasets provided as lists in Python:\n",
    "\n",
    "    list_x = [10, 20, 30, 40, 50]\n",
    "    \n",
    "    list_y = [15, 25, 35, 45, 60]"
   ]
  },
  {
   "cell_type": "code",
   "execution_count": 2,
   "id": "786540ad",
   "metadata": {},
   "outputs": [
    {
     "name": "stdout",
     "output_type": "stream",
     "text": [
      "Covariance between x and y is  275.0\n",
      "Correlation between x and y is 0.995893206467704\n"
     ]
    }
   ],
   "source": [
    "import numpy as np\n",
    "list_x = [10, 20, 30, 40, 50]\n",
    "list_y = [15, 25, 35, 45, 60]\n",
    "\n",
    "x = np.array(list_x)\n",
    "y = np.array(list_y)\n",
    "\n",
    "covariance_matrix = np.cov(x,y, bias=False)\n",
    "covariance_xy = covariance_matrix[0,1]\n",
    "\n",
    "correlation_matrix = np.corrcoef(x,y)\n",
    "correlation_xy = correlation_matrix[0,1]\n",
    "\n",
    "print(\"Covariance between x and y is \", covariance_xy)\n",
    "print(\"Correlation between x and y is\", correlation_xy)"
   ]
  },
  {
   "cell_type": "markdown",
   "id": "2ad6aedb",
   "metadata": {},
   "source": [
    "7. Write a Python script to draw a boxplot for the following numeric list and\n",
    "identify its outliers. Explain the result:\n",
    "\n",
    "    data = [12, 14, 14, 15, 18, 19, 19, 21, 22, 22, 23, 23, 24, 26, 29, 35]"
   ]
  },
  {
   "cell_type": "code",
   "execution_count": 4,
   "id": "ce548ba7",
   "metadata": {},
   "outputs": [
    {
     "data": {
      "image/png": "[encoded data removed]",
      "text/plain": [
       "<Figure size 640x480 with 1 Axes>"
      ]
     },
     "metadata": {},
     "output_type": "display_data"
    }
   ],
   "source": [
    "import matplotlib.pyplot as plt\n",
    "\n",
    "data =  [12, 14, 14, 15, 18, 19, 19, 21, 22, 22, 23, 23, 24, 26, 29, 35]\n",
    "\n",
    "plt.boxplot(data)\n",
    "plt.title(\"Boxplot of Data\")\n",
    "plt.xlabel(\"Values\")\n",
    "plt.show()"
   ]
  },
  {
   "cell_type": "markdown",
   "id": "0408db46",
   "metadata": {},
   "source": [
    "8. You are working as a data analyst in an e-commerce company. The marketing team wants to know if there is a relationship between advertising spend and daily sales.\n",
    "    Explain how you would use covariance and correlation to explore this\n",
    "relationship.\n",
    "\n",
    "    Write Python code to compute the correlation between the two lists:\n",
    "advertising_spend = [200, 250, 300, 400, 500]\n",
    "daily_sales = [2200, 2450, 2750, 3200, 4000]"
   ]
  },
  {
   "cell_type": "code",
   "execution_count": 5,
   "id": "ba0d845b",
   "metadata": {},
   "outputs": [
    {
     "name": "stdout",
     "output_type": "stream",
     "text": [
      "Covariane: 84875.0\n",
      "Correlation: 0.9935824101653329\n"
     ]
    }
   ],
   "source": [
    "import numpy as np\n",
    "\n",
    "advertising_spend = [200, 250, 300, 400, 500]\n",
    "daily_sales = [2200, 2450, 2750, 3200, 4000]\n",
    "\n",
    "ad = np.array(advertising_spend)\n",
    "sales = np.array(daily_sales)\n",
    "\n",
    "cov_matrix = np.cov(ad, sales)\n",
    "cov_xy = cov_matrix[0,1]\n",
    "\n",
    "\n",
    "corr_matrix = np.corrcoef(ad, sales)\n",
    "corr_xy = corr_matrix[0,1]\n",
    "\n",
    "print(\"Covariane:\", cov_xy)\n",
    "print(\"Correlation:\", corr_xy)\n",
    "\n"
   ]
  },
  {
   "cell_type": "markdown",
   "id": "4ac81aa2",
   "metadata": {},
   "source": [
    "9. Your team has collected customer satisfaction survey data on a scale of\n",
    "1-10 and wants to understand its distribution before launching a new product.\n",
    "● Explain which summary statistics and visualizations (e.g. mean, standard\n",
    "deviation, histogram) you’d use.\n",
    "● Write Python code to create a histogram using Matplotlib for the survey data:\n",
    "survey_scores = [7, 8, 5, 9, 6, 7, 8, 9, 10, 4, 7, 6, 9, 8, 7]"
   ]
  },
  {
   "cell_type": "code",
   "execution_count": 6,
   "id": "69e6eaaa",
   "metadata": {},
   "outputs": [
    {
     "data": {
      "image/png": "[encoded data removed]",
      "text/plain": [
       "<Figure size 640x480 with 1 Axes>"
      ]
     },
     "metadata": {},
     "output_type": "display_data"
    }
   ],
   "source": [
    "import matplotlib.pyplot as plt\n",
    "\n",
    "survey_scores = [7, 8, 5, 9, 6, 7, 8, 9, 10, 4, 7, 6, 9, 8, 7]\n",
    "\n",
    "plt.hist(survey_scores)\n",
    "plt.title(\"Customer Satisfiction Score\")\n",
    "plt.xlabel(\"Satisfiction Score\")\n",
    "plt.ylabel(\"Frequency\")\n",
    "plt.xticks(range(1,11))\n",
    "plt.show()"
   ]
  }
 ],
 "metadata": {
  "kernelspec": {
   "display_name": "Python 3",
   "language": "python",
   "name": "python3"
  },
  "language_info": {
   "codemirror_mode": {
    "name": "ipython",
    "version": 3
   },
   "file_extension": ".py",
   "mimetype": "text/x-python",
   "name": "python",
   "nbconvert_exporter": "python",
   "pygments_lexer": "ipython3",
   "version": "3.13.2"
  }
 },
 "nbformat": 4,
 "nbformat_minor": 5
}
